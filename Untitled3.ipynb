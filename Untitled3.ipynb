{
 "cells": [
  {
   "cell_type": "code",
   "execution_count": 2,
   "id": "c2c3b9d7",
   "metadata": {},
   "outputs": [
    {
     "name": "stdout",
     "output_type": "stream",
     "text": [
      "    cricket  passings\n",
      "0  ms dhoni       100\n",
      "1     Virat         0\n",
      "2  vasishta       200\n"
     ]
    }
   ],
   "source": [
    "import pandas\n",
    "\n",
    "mydataset = {\n",
    "  'cricket': [\"ms dhoni\", \"Virat\", \"vasishta\"],\n",
    "  'passings': [100, 0, 200]\n",
    "}\n",
    "\n",
    "myvar = pandas.DataFrame(mydataset)\n",
    "\n",
    "print(myvar)"
   ]
  },
  {
   "cell_type": "code",
   "execution_count": 5,
   "id": "633cae9c",
   "metadata": {},
   "outputs": [
    {
     "name": "stdout",
     "output_type": "stream",
     "text": [
      "       cricket  passings\n",
      "0  0  ms dhoni       100\n",
      "1  1     Virat         0\n",
      "2  2  vasishta       200\n"
     ]
    }
   ],
   "source": [
    "import pandas as pd\n",
    "\n",
    "df= pd.read_csv(\"E:\\\\vasi.csv\")\n",
    "\n",
    "print(df.to_string()) \n"
   ]
  },
  {
   "cell_type": "code",
   "execution_count": 3,
   "id": "5c230fd9",
   "metadata": {},
   "outputs": [
    {
     "name": "stdout",
     "output_type": "stream",
     "text": [
      "    cricket  passings\n",
      "0  ms dhoni       100\n",
      "1     Virat         0\n",
      "2  vasishta       200\n"
     ]
    }
   ],
   "source": [
    "import pandas as pf\n",
    "\n",
    "mydataset = {\n",
    "  'cricket': [\"ms dhoni\", \"Virat\", \"vasishta\"],\n",
    "  'passings': [100, 0, 200]\n",
    "}\n",
    "\n",
    "myvar = pf.DataFrame(mydataset)\n",
    "\n",
    "print(myvar)"
   ]
  },
  {
   "cell_type": "code",
   "execution_count": 7,
   "id": "2fe4d472",
   "metadata": {},
   "outputs": [
    {
     "name": "stdout",
     "output_type": "stream",
     "text": [
      "  friends name friends gender  passings\n",
      "0  rohith  pal         female       0.5\n",
      "1    prashanth         female       0.5\n",
      "2     vasishta           male     100.0\n"
     ]
    }
   ],
   "source": [
    "import pandas as friendsdata\n",
    "\n",
    "data = {\n",
    "  'friends name': [\"rohith  pal\", \"prashanth\", \"vasishta\"],\n",
    "  'friends gender':[\"female\",\"female\",\"male\"],  \n",
    "  'passings': [.5, .5, 100]\n",
    "}\n",
    "\n",
    "myvar = pandas.DataFrame(data)\n",
    "\n",
    "print(myvar)"
   ]
  },
  {
   "cell_type": "code",
   "execution_count": 8,
   "id": "af30ba45",
   "metadata": {},
   "outputs": [
    {
     "name": "stdout",
     "output_type": "stream",
     "text": [
      "0    10\n",
      "1    77\n",
      "2    52\n",
      "dtype: int64\n"
     ]
    }
   ],
   "source": [
    "import pandas as pd\n",
    "\n",
    "abc = [10, 77, 52]\n",
    "\n",
    "myvar = pd.Series(abc)\n",
    "\n",
    "print(myvar)"
   ]
  },
  {
   "cell_type": "code",
   "execution_count": 13,
   "id": "490542eb",
   "metadata": {
    "scrolled": true
   },
   "outputs": [
    {
     "name": "stdout",
     "output_type": "stream",
     "text": [
      "day1       22\n",
      "day2     4567\n",
      "day3    71234\n",
      "dtype: int64\n"
     ]
    }
   ],
   "source": [
    "import pandas as pd\n",
    "\n",
    "exercise = {\"day1\":22, \"day2\":4567, \"day3\":71234}\n",
    "\n",
    "myvar = pd.Series(exercise)\n",
    "\n",
    "print(myvar)"
   ]
  },
  {
   "cell_type": "code",
   "execution_count": null,
   "id": "8c42f30b",
   "metadata": {},
   "outputs": [],
   "source": []
  },
  {
   "cell_type": "code",
   "execution_count": 20,
   "id": "e85c816d",
   "metadata": {},
   "outputs": [
    {
     "name": "stdout",
     "output_type": "stream",
     "text": [
      "day1      upper body\n",
      "day2      lower body\n",
      "day3    conditioning\n",
      "day4        rest day\n",
      "day5        crossfit\n",
      "day6      lower body\n",
      "day7        rest day\n",
      "dtype: object\n"
     ]
    }
   ],
   "source": [
    "import pandas as pd\n",
    "\n",
    "cricket = {\"day1\": \"upper body\", \"day2\": \"lower body\", \"day3\": \"conditioning\",\"day4\":\"rest day\",\"day5\":\"crossfit\",\"day6\":\"lower body\",\"day7\":\"rest day\"}\n",
    "\n",
    "myvar = pd.Series(cricket, index = [\"day1\",\"day2\",\"day3\",\"day4\",\"day5\",\"day6\",\"day7\"])\n",
    "\n",
    "\n",
    "print(myvar)"
   ]
  },
  {
   "cell_type": "code",
   "execution_count": 23,
   "id": "435ce9f0",
   "metadata": {},
   "outputs": [
    {
     "name": "stdout",
     "output_type": "stream",
     "text": [
      "   calories  duration\n",
      "0        42         0\n",
      "1        38         0\n",
      "2        39         5\n"
     ]
    }
   ],
   "source": [
    "import pandas as pd\n",
    "\n",
    "data = {\n",
    "  \"calories\": [42, 38, 39],\n",
    "  \"duration\": [0, 0, 5]\n",
    "}\n",
    "\n",
    "myvar = pd.DataFrame(data)\n",
    "print(myvar)"
   ]
  },
  {
   "cell_type": "code",
   "execution_count": null,
   "id": "7c019b37",
   "metadata": {},
   "outputs": [],
   "source": []
  }
 ],
 "metadata": {
  "kernelspec": {
   "display_name": "Python 3 (ipykernel)",
   "language": "python",
   "name": "python3"
  },
  "language_info": {
   "codemirror_mode": {
    "name": "ipython",
    "version": 3
   },
   "file_extension": ".py",
   "mimetype": "text/x-python",
   "name": "python",
   "nbconvert_exporter": "python",
   "pygments_lexer": "ipython3",
   "version": "3.9.7"
  }
 },
 "nbformat": 4,
 "nbformat_minor": 5
}
