{
  "nbformat": 4,
  "nbformat_minor": 0,
  "metadata": {
    "colab": {
      "name": "Untitled1.ipynb",
      "provenance": [],
      "authorship_tag": "ABX9TyPNCDZ9/ZP9yIuUihCKwt0R",
      "include_colab_link": true
    },
    "kernelspec": {
      "name": "python3",
      "display_name": "Python 3"
    },
    "language_info": {
      "name": "python"
    }
  },
  "cells": [
    {
      "cell_type": "markdown",
      "metadata": {
        "id": "view-in-github",
        "colab_type": "text"
      },
      "source": [
        "<a href=\"https://colab.research.google.com/github/Vasishta218/python0081/blob/main/Untitled1.ipynb\" target=\"_parent\"><img src=\"https://colab.research.google.com/assets/colab-badge.svg\" alt=\"Open In Colab\"/></a>"
      ]
    },
    {
      "cell_type": "code",
      "execution_count": 1,
      "metadata": {
        "colab": {
          "base_uri": "https://localhost:8080/"
        },
        "id": "W8o79mVKfj-h",
        "outputId": "3fb0485d-08fd-49d7-ffc0-a641442bdac2"
      },
      "outputs": [
        {
          "output_type": "stream",
          "name": "stdout",
          "text": [
            "llo, World!\n"
          ]
        }
      ],
      "source": [
        "b = \"Hello, World!\"\n",
        "print(b[2:])"
      ]
    },
    {
      "cell_type": "code",
      "source": [
        "a=\"\"\"iamvasishta,\n",
        "     from vizag\"\"\"\n",
        "print(a)\n"
      ],
      "metadata": {
        "colab": {
          "base_uri": "https://localhost:8080/"
        },
        "id": "VPsAYSQrg4Vm",
        "outputId": "3a009783-f43c-49f2-9229-8ef7f292e19d"
      },
      "execution_count": 8,
      "outputs": [
        {
          "output_type": "stream",
          "name": "stdout",
          "text": [
            "iamvasishta,\n",
            "     from vizag\n"
          ]
        }
      ]
    },
    {
      "cell_type": "code",
      "source": [
        "b = \"i am vasishta\"\n",
        "print(b[7:10])\n",
        "print(len(b))"
      ],
      "metadata": {
        "colab": {
          "base_uri": "https://localhost:8080/"
        },
        "id": "N0MrGawUga1m",
        "outputId": "959325fd-f6ca-426f-a0e4-6716c0abd712"
      },
      "execution_count": 6,
      "outputs": [
        {
          "output_type": "stream",
          "name": "stdout",
          "text": [
            "sis\n",
            "13\n"
          ]
        }
      ]
    },
    {
      "cell_type": "code",
      "source": [
        "b = \"Hello, World!\"\n",
        "print(b[-12:-2])\n",
        "print(len(b))"
      ],
      "metadata": {
        "colab": {
          "base_uri": "https://localhost:8080/"
        },
        "id": "B0rq7mjwhNWM",
        "outputId": "716c23b4-d0b4-4f5e-b3ef-45ef3ea6b046"
      },
      "execution_count": 12,
      "outputs": [
        {
          "output_type": "stream",
          "name": "stdout",
          "text": [
            "ello, Worl\n",
            "13\n"
          ]
        }
      ]
    },
    {
      "cell_type": "code",
      "source": [
        "a = \"            Hello, World!                          \"\n",
        "print(a.strip()) "
      ],
      "metadata": {
        "colab": {
          "base_uri": "https://localhost:8080/"
        },
        "id": "InOZP6O5iCg2",
        "outputId": "0316a416-7030-477b-c9eb-070952a9c152"
      },
      "execution_count": 14,
      "outputs": [
        {
          "output_type": "stream",
          "name": "stdout",
          "text": [
            "Hello, World!\n"
          ]
        }
      ]
    },
    {
      "cell_type": "code",
      "source": [
        "a = \"Hello,i am vasishta \"\n",
        "print(a.upper()) "
      ],
      "metadata": {
        "colab": {
          "base_uri": "https://localhost:8080/"
        },
        "id": "mCCeKjfqiKGt",
        "outputId": "f87d5874-596c-4405-dfc0-0a03e11f13ba"
      },
      "execution_count": 15,
      "outputs": [
        {
          "output_type": "stream",
          "name": "stdout",
          "text": [
            "HELLO,I AM VASISHTA \n"
          ]
        }
      ]
    },
    {
      "cell_type": "code",
      "source": [
        "b=\"i am prashanth\"\n",
        "print(a.lower())"
      ],
      "metadata": {
        "colab": {
          "base_uri": "https://localhost:8080/"
        },
        "id": "6RtX6SIsiyqu",
        "outputId": "8dc7b11a-4a42-4d2b-8f8f-b591dc71ab99"
      },
      "execution_count": 16,
      "outputs": [
        {
          "output_type": "stream",
          "name": "stdout",
          "text": [
            "hello,i am vasishta \n"
          ]
        }
      ]
    },
    {
      "cell_type": "code",
      "source": [
        "a = \"Hello, World!\"\n",
        "print(a.replace(\"l\", \"v\"))\n"
      ],
      "metadata": {
        "colab": {
          "base_uri": "https://localhost:8080/"
        },
        "id": "4G8-Tr-KjaGE",
        "outputId": "b9b74b2e-ef94-4690-e78b-d04433922931"
      },
      "execution_count": 18,
      "outputs": [
        {
          "output_type": "stream",
          "name": "stdout",
          "text": [
            "Hevvo, Worvd!\n"
          ]
        }
      ]
    },
    {
      "cell_type": "code",
      "source": [
        "a = \"Hello,World\"\n",
        "print(a.split(\",\"))"
      ],
      "metadata": {
        "colab": {
          "base_uri": "https://localhost:8080/"
        },
        "id": "kKu7c1BVjh19",
        "outputId": "758da964-8e96-45fe-9e78-2603990f593d"
      },
      "execution_count": 22,
      "outputs": [
        {
          "output_type": "stream",
          "name": "stdout",
          "text": [
            "['Hello', 'World']\n"
          ]
        }
      ]
    },
    {
      "cell_type": "code",
      "source": [
        "a=\"i am vasishta\"\n",
        "b=\". i am prashanth\"\n",
        "c=a+b\n",
        "print(c)"
      ],
      "metadata": {
        "colab": {
          "base_uri": "https://localhost:8080/"
        },
        "id": "rPJxsFXglCI3",
        "outputId": "d0d3a389-b151-4220-f319-c3b61a4c298a"
      },
      "execution_count": 25,
      "outputs": [
        {
          "output_type": "stream",
          "name": "stdout",
          "text": [
            "i am vasishta. i am prashanth\n"
          ]
        }
      ]
    },
    {
      "cell_type": "code",
      "source": [
        "a=\"i am vasishta\"\n",
        "b=\". i am prashanth\"\n",
        "c=a+b\n",
        "print(c)"
      ],
      "metadata": {
        "colab": {
          "base_uri": "https://localhost:8080/"
        },
        "id": "-Orr_Hv7m3JH",
        "outputId": "4313102a-ac84-4b30-d135-6c8abb0ba0fa"
      },
      "execution_count": 32,
      "outputs": [
        {
          "output_type": "stream",
          "name": "stdout",
          "text": [
            "i am vasishta. i am prashanth\n"
          ]
        }
      ]
    },
    {
      "cell_type": "code",
      "source": [
        "age=40\n",
        "a=\"i am prashanth,my age is {} \" \n",
        "print(a.format(age))"
      ],
      "metadata": {
        "colab": {
          "base_uri": "https://localhost:8080/"
        },
        "id": "kJLLsRicm7F2",
        "outputId": "9fd0a277-69a5-44c5-b475-59b6467ada40"
      },
      "execution_count": 30,
      "outputs": [
        {
          "output_type": "stream",
          "name": "stdout",
          "text": [
            "i am prashanth,my age is 40 \n"
          ]
        }
      ]
    },
    {
      "cell_type": "code",
      "source": [
        "quantity=100\n",
        "items=3\n",
        "rate=100000\n",
        "a=\"quantity{},items{},rate{}\"\n",
        "print(a.format(quantity,items,rate))"
      ],
      "metadata": {
        "colab": {
          "base_uri": "https://localhost:8080/"
        },
        "id": "Rvjtj1Rgnx2X",
        "outputId": "ea115c80-eec5-4586-a605-2b08166ec3b0"
      },
      "execution_count": 33,
      "outputs": [
        {
          "output_type": "stream",
          "name": "stdout",
          "text": [
            "quantity100,items3,rate100000\n"
          ]
        }
      ]
    }
  ]
}