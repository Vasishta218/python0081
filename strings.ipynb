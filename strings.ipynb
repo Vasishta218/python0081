{
  "nbformat": 4,
  "nbformat_minor": 0,
  "metadata": {
    "colab": {
      "name": "strings.ipynb",
      "provenance": [],
      "collapsed_sections": [],
      "authorship_tag": "ABX9TyP63horDJ+KnCzKmPnjpgGO",
      "include_colab_link": true
    },
    "kernelspec": {
      "name": "python3",
      "display_name": "Python 3"
    },
    "language_info": {
      "name": "python"
    }
  },
  "cells": [
    {
      "cell_type": "markdown",
      "metadata": {
        "id": "view-in-github",
        "colab_type": "text"
      },
      "source": [
        "<a href=\"https://colab.research.google.com/github/Vasishta218/python0081/blob/main/strings.ipynb\" target=\"_parent\"><img src=\"https://colab.research.google.com/assets/colab-badge.svg\" alt=\"Open In Colab\"/></a>"
      ]
    },
    {
      "cell_type": "code",
      "execution_count": 5,
      "metadata": {
        "colab": {
          "base_uri": "https://localhost:8080/"
        },
        "id": "qmDhZvQL9qQd",
        "outputId": "148cad45-502a-499a-96e2-4544541cfd65"
      },
      "outputs": [
        {
          "output_type": "stream",
          "name": "stdout",
          "text": [
            "i am vasishta,coming from east point colony by car,\n",
            "persuing my btech in gitam university,\n",
            "visakhapatnam\n",
            "104\n"
          ]
        }
      ],
      "source": [
        "#adress using string\n",
        "a=\"\"\"i am vasishta,coming from east point colony by car,\n",
        "persuing my btech in gitam university,\n",
        "visakhapatnam\"\"\"\n",
        "print(a)\n",
        "print(len(a))"
      ]
    },
    {
      "cell_type": "code",
      "source": [
        "#check1\n",
        "a=\"\"\"i am vasishta,coming from east point colony by car,\n",
        "persuing my btech in gitam university,\n",
        "visakhapatnam\"\"\"\n",
        "print(\"vasishta\" in a)"
      ],
      "metadata": {
        "colab": {
          "base_uri": "https://localhost:8080/"
        },
        "id": "ZTK-lwlsADgB",
        "outputId": "cc6b91d0-3ac3-4434-da0a-d5c9bdf5b7ca"
      },
      "execution_count": 6,
      "outputs": [
        {
          "output_type": "stream",
          "name": "stdout",
          "text": [
            "True\n"
          ]
        }
      ]
    },
    {
      "cell_type": "code",
      "source": [
        "#check2\n",
        "a=\"\"\"i am vasishta,coming from east point colony by car,\n",
        "persuing my btech in gitam university,\n",
        "visakhapatnam\"\"\"\n",
        "print(\"vasishta\" in a)\n",
        "print(\"prashu baby\" in a)"
      ],
      "metadata": {
        "colab": {
          "base_uri": "https://localhost:8080/"
        },
        "id": "NKvwxfY4-pUi",
        "outputId": "2e595243-4c1b-4830-9b73-99e6bc348541"
      },
      "execution_count": 10,
      "outputs": [
        {
          "output_type": "stream",
          "name": "stdout",
          "text": [
            "True\n",
            "False\n"
          ]
        }
      ]
    },
    {
      "cell_type": "code",
      "source": [
        "#check if not\n",
        "a=\"\"\"i am vasishta,coming from east point colony by car,\n",
        "persuing my btech in gitam university,\n",
        "visakhapatnam\"\"\"\n",
        "print(\"vasishta\" not in a)\n",
        "print(\"madhav\" not in a)"
      ],
      "metadata": {
        "colab": {
          "base_uri": "https://localhost:8080/"
        },
        "id": "-Xy9SkaXA72f",
        "outputId": "20b7cc01-7311-4c29-d2b0-48bf2739aa26"
      },
      "execution_count": 11,
      "outputs": [
        {
          "output_type": "stream",
          "name": "stdout",
          "text": [
            "False\n",
            "True\n"
          ]
        }
      ]
    },
    {
      "cell_type": "code",
      "source": [
        "#check if not 2\n",
        "a=\"\"\"i am vasishta,coming from east point colony by car,\n",
        "persuing my btech in gitam university,\n",
        "visakhapatnam\"\"\"\n",
        "print(\"vasishta\" not in a)\n",
        "print(\"madhav\" not in a)\n",
        "\n",
        "if \"madhav\" not in a:\n",
        "  print(\"madhav is not present\")\n"
      ],
      "metadata": {
        "colab": {
          "base_uri": "https://localhost:8080/"
        },
        "id": "QM-VXpE6BYRP",
        "outputId": "dfa70dd2-93bc-4faa-87ec-4ca224f69fa8"
      },
      "execution_count": 15,
      "outputs": [
        {
          "output_type": "stream",
          "name": "stdout",
          "text": [
            "False\n",
            "True\n",
            "madhav is not present\n"
          ]
        }
      ]
    },
    {
      "cell_type": "code",
      "source": [
        "#slicing \n",
        "b=\"i went to rrr movie\"\n",
        "print(len(b))\n",
        "print(b[0:19])\n",
        "print(b[0:6])\n",
        "print(b[4:16])\n",
        "print(b[3:17])\n",
        "print(b[4:16],b[3:15])\n",
        "\n",
        "print(b[:])"
      ],
      "metadata": {
        "colab": {
          "base_uri": "https://localhost:8080/"
        },
        "id": "wNMtrrzTCbzI",
        "outputId": "1ecc4154-c89b-4633-deb4-8bb6eacf4f85"
      },
      "execution_count": 32,
      "outputs": [
        {
          "output_type": "stream",
          "name": "stdout",
          "text": [
            "19\n",
            "i went to rrr movie\n",
            "i went\n",
            "nt to rrr mo\n",
            "ent to rrr mov\n",
            "nt to rrr mo ent to rrr m\n",
            "i went to rrr movie\n"
          ]
        }
      ]
    },
    {
      "cell_type": "code",
      "source": [
        "#modifying string\n",
        "a=\"i went to rrr movie,yesterday\"\n",
        "print(a[0:1].upper())\n",
        "print(a[5:7].lower())"
      ],
      "metadata": {
        "colab": {
          "base_uri": "https://localhost:8080/"
        },
        "id": "BgJo23UKFt-d",
        "outputId": "5edf4498-403e-4912-b1a6-3526d29ae54c"
      },
      "execution_count": 40,
      "outputs": [
        {
          "output_type": "stream",
          "name": "stdout",
          "text": [
            "I\n",
            "t \n"
          ]
        }
      ]
    },
    {
      "cell_type": "code",
      "source": [
        "#modifying string\n",
        "a=\" i went to rrr movie,yesterday \"\n",
        "print(a.strip())\n",
        "print(a.replace(\"rrr\",\"ntr\"))"
      ],
      "metadata": {
        "colab": {
          "base_uri": "https://localhost:8080/"
        },
        "id": "QcZD9PAmHlpl",
        "outputId": "0ded71b1-333b-4349-cad8-4ae7fdb52f3e"
      },
      "execution_count": 43,
      "outputs": [
        {
          "output_type": "stream",
          "name": "stdout",
          "text": [
            "i went to rrr movie,yesterday\n",
            " i went to ntr movie,yesterday \n"
          ]
        }
      ]
    },
    {
      "cell_type": "code",
      "source": [
        "#adding 2 strings\n",
        "a=\"i went to rrr movie\"\n",
        "b=\",yesterday\"\n",
        "c=a+b\n",
        "print(c)"
      ],
      "metadata": {
        "colab": {
          "base_uri": "https://localhost:8080/"
        },
        "id": "YgZ-Yh7AJlJm",
        "outputId": "f77d4ddf-cafd-44d7-b73d-aded50b77c75"
      },
      "execution_count": 52,
      "outputs": [
        {
          "output_type": "stream",
          "name": "stdout",
          "text": [
            "i went to rrr movie,yesterday\n"
          ]
        }
      ]
    },
    {
      "cell_type": "code",
      "source": [
        "#adding 2 strings\n",
        "a=\"i went to rrr movie\"\n",
        "b=\",yesterday\"\n",
        "c=a+\"\"+b\n",
        "print(c)"
      ],
      "metadata": {
        "colab": {
          "base_uri": "https://localhost:8080/"
        },
        "id": "6Zwa4f1bKiFU",
        "outputId": "f33b2afc-2530-48d1-dc31-62d9da8f1ab7"
      },
      "execution_count": 53,
      "outputs": [
        {
          "output_type": "stream",
          "name": "stdout",
          "text": [
            "i went to rrr movie,yesterday\n"
          ]
        }
      ]
    },
    {
      "cell_type": "code",
      "source": [
        ""
      ],
      "metadata": {
        "id": "v3HIwi7OPiH_"
      },
      "execution_count": null,
      "outputs": []
    },
    {
      "cell_type": "code",
      "source": [
        "#format string\n",
        "a=\"18\"\n",
        "b=\"i am vasishta,my age is \"+ a\n",
        "print(b)"
      ],
      "metadata": {
        "colab": {
          "base_uri": "https://localhost:8080/"
        },
        "id": "-tJE5XsMNF0a",
        "outputId": "0ab00ee6-7eea-4206-c619-4bf8a3f6f727"
      },
      "execution_count": 58,
      "outputs": [
        {
          "output_type": "stream",
          "name": "stdout",
          "text": [
            "i am vasishta,my age is 18\n"
          ]
        }
      ]
    },
    {
      "cell_type": "code",
      "source": [
        "#format string\n",
        "a=\"18\"\n",
        "b=\"i am vasishta,my age is {}\"\n",
        "print(b.format(a))"
      ],
      "metadata": {
        "colab": {
          "base_uri": "https://localhost:8080/"
        },
        "id": "psLbpLRDOblT",
        "outputId": "9073ecfb-7a56-4965-868d-1c9844b128e5"
      },
      "execution_count": 59,
      "outputs": [
        {
          "output_type": "stream",
          "name": "stdout",
          "text": [
            "i am vasishta,my age is 18\n"
          ]
        }
      ]
    },
    {
      "cell_type": "code",
      "source": [
        "#format string\n",
        "quantity=3\n",
        "items=4\n",
        "rate=50\n",
        "a=\"quatity-{},items-{},rate-{}\"\n",
        "print(a.format(quantity,items,rate))"
      ],
      "metadata": {
        "colab": {
          "base_uri": "https://localhost:8080/"
        },
        "id": "CuiWVADaOyCp",
        "outputId": "b06f066a-d0cf-4f40-f209-1f0bb547a94f"
      },
      "execution_count": 63,
      "outputs": [
        {
          "output_type": "stream",
          "name": "stdout",
          "text": [
            "quatity-3,items-4,rate-50\n"
          ]
        }
      ]
    },
    {
      "cell_type": "code",
      "source": [
        "#special characters\n",
        "a=\"hello \\\" world \\\" gjhhjg\"\n",
        "print(a)"
      ],
      "metadata": {
        "colab": {
          "base_uri": "https://localhost:8080/"
        },
        "id": "tDGpXSgGQEbb",
        "outputId": "f7e58586-e3ba-43c9-dfd9-a69fbd11f483"
      },
      "execution_count": 72,
      "outputs": [
        {
          "output_type": "stream",
          "name": "stdout",
          "text": [
            "hello \" world \" gjhhjg\n"
          ]
        }
      ]
    },
    {
      "cell_type": "code",
      "source": [
        "#special characters\n",
        "a=\"hello \\n world\"\n",
        "print(a)"
      ],
      "metadata": {
        "colab": {
          "base_uri": "https://localhost:8080/"
        },
        "id": "CCQkcHlwRT4J",
        "outputId": "88aedd62-470c-4ae1-dec6-65a35db6049d"
      },
      "execution_count": 73,
      "outputs": [
        {
          "output_type": "stream",
          "name": "stdout",
          "text": [
            "hello \n",
            " world\n"
          ]
        }
      ]
    }
  ]
}