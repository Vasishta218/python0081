{
  "nbformat": 4,
  "nbformat_minor": 0,
  "metadata": {
    "colab": {
      "name": "Untitled0.ipynb",
      "provenance": [],
      "authorship_tag": "ABX9TyPj7XLEDQg4jQ011PpWpmfp",
      "include_colab_link": true
    },
    "kernelspec": {
      "name": "python3",
      "display_name": "Python 3"
    },
    "language_info": {
      "name": "python"
    }
  },
  "cells": [
    {
      "cell_type": "markdown",
      "metadata": {
        "id": "view-in-github",
        "colab_type": "text"
      },
      "source": [
        "<a href=\"https://colab.research.google.com/github/Vasishta218/python0081/blob/main/Untitled0.ipynb\" target=\"_parent\"><img src=\"https://colab.research.google.com/assets/colab-badge.svg\" alt=\"Open In Colab\"/></a>"
      ]
    },
    {
      "cell_type": "code",
      "execution_count": 11,
      "metadata": {
        "colab": {
          "base_uri": "https://localhost:8080/"
        },
        "id": "zwoO0Xx04bkm",
        "outputId": "0adefead-aa17-4b71-f23e-4b0050e43b1a"
      },
      "outputs": [
        {
          "output_type": "stream",
          "name": "stdout",
          "text": [
            "['apple', 'orange', 'grape', 'watermelon', 'mango']\n",
            "apple\n",
            "orange\n",
            "grape\n",
            "watermelon\n",
            "mango\n",
            "mango\n",
            "watermelon\n",
            "grape\n",
            "orange\n",
            "apple\n"
          ]
        }
      ],
      "source": [
        "#fruit\n",
        "fruit=['apple','orange','grape','watermelon','mango']\n",
        "print(fruit[0:5])\n",
        "print(fruit[0])\n",
        "print(fruit[1])\n",
        "print(fruit[2])\n",
        "print(fruit[3])\n",
        "print(fruit[4])\n",
        "print(fruit[-1])\n",
        "print(fruit[-2])\n",
        "print(fruit[-3])\n",
        "print(fruit[-4])\n",
        "print(fruit[-5])\n",
        "\n"
      ]
    },
    {
      "cell_type": "code",
      "source": [
        "num=['1','2','3','4','5','6']\n",
        "print(num[2:5])\n",
        "print(num[4:5])\n",
        "print(num[1:5])\n",
        "print(num[1:4])\n",
        "print(num[3:6])\n"
      ],
      "metadata": {
        "colab": {
          "base_uri": "https://localhost:8080/"
        },
        "id": "TAc_mgH6BEsX",
        "outputId": "3abb90fd-c2e7-4296-d8df-b87a782a5889"
      },
      "execution_count": 13,
      "outputs": [
        {
          "output_type": "stream",
          "name": "stdout",
          "text": [
            "['3', '4', '5']\n",
            "['5']\n",
            "['2', '3', '4', '5']\n",
            "['2', '3', '4']\n",
            "['4', '5', '6']\n"
          ]
        }
      ]
    },
    {
      "cell_type": "code",
      "source": [
        "fruit=['apple','banana','cherry']\n",
        "print(fruit)\n",
        "fruit.append('apple')\n",
        "print(fruit)\n",
        "fruit.insert(-2,'mango')\n",
        "print(fruit)"
      ],
      "metadata": {
        "colab": {
          "base_uri": "https://localhost:8080/"
        },
        "id": "qZIt92o5GyJt",
        "outputId": "228791d9-bcc9-4f79-e8e3-71cce1808c03"
      },
      "execution_count": 18,
      "outputs": [
        {
          "output_type": "stream",
          "name": "stdout",
          "text": [
            "['apple', 'banana', 'cherry']\n",
            "['apple', 'banana', 'cherry', 'apple']\n",
            "['apple', 'banana', 'mango', 'cherry', 'apple']\n"
          ]
        }
      ]
    },
    {
      "cell_type": "code",
      "source": [
        "name=['suresh','ramesh','chandu']\n",
        "print(name)\n",
        "name.append('ramesh')\n",
        "name.insert(-1,'vasishta')\n",
        "print(name)\n",
        "(name.reverse())\n",
        "print(name)\n",
        "name.pop(3)\n",
        "print(name)\n",
        "b=name.copy()\n",
        "print(b)\n",
        "print(len(name))\n",
        "name.extend('kirl')\n",
        "print(name)\n",
        "print(len(name))\n"
      ],
      "metadata": {
        "colab": {
          "base_uri": "https://localhost:8080/"
        },
        "id": "Ssd0YyB0Jpzd",
        "outputId": "45e4fe3b-b67a-469c-e1ae-b4bae716e8d0"
      },
      "execution_count": 23,
      "outputs": [
        {
          "output_type": "stream",
          "name": "stdout",
          "text": [
            "['suresh', 'ramesh', 'chandu']\n",
            "['suresh', 'ramesh', 'chandu', 'vasishta', 'ramesh']\n",
            "['ramesh', 'vasishta', 'chandu', 'ramesh', 'suresh']\n",
            "['ramesh', 'vasishta', 'chandu', 'suresh']\n",
            "['ramesh', 'vasishta', 'chandu', 'suresh']\n",
            "4\n",
            "['ramesh', 'vasishta', 'chandu', 'suresh', 'k', 'i', 'r', 'l']\n",
            "8\n"
          ]
        }
      ]
    },
    {
      "cell_type": "code",
      "source": [
        "fruit=['pine apple','mango','bananna']\n",
        "fruit.insert(1,'vasishta')\n",
        "print(fruit)"
      ],
      "metadata": {
        "colab": {
          "base_uri": "https://localhost:8080/"
        },
        "id": "z-8ufTKYLmdd",
        "outputId": "fe72cdb3-ce4b-47c8-fcf6-07f2883a36f0"
      },
      "execution_count": 22,
      "outputs": [
        {
          "output_type": "stream",
          "name": "stdout",
          "text": [
            "['pine apple', 'vasishta', 'mango', 'bananna']\n"
          ]
        }
      ]
    },
    {
      "cell_type": "code",
      "source": [
        ""
      ],
      "metadata": {
        "id": "bvoOGSP1Mtis"
      },
      "execution_count": null,
      "outputs": []
    }
  ]
}