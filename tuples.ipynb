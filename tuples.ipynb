{
  "nbformat": 4,
  "nbformat_minor": 0,
  "metadata": {
    "colab": {
      "name": "tuples.ipynb",
      "provenance": [],
      "authorship_tag": "ABX9TyPaUo6e9eqC3GzN1fG28xtT",
      "include_colab_link": true
    },
    "kernelspec": {
      "name": "python3",
      "display_name": "Python 3"
    },
    "language_info": {
      "name": "python"
    }
  },
  "cells": [
    {
      "cell_type": "markdown",
      "metadata": {
        "id": "view-in-github",
        "colab_type": "text"
      },
      "source": [
        "<a href=\"https://colab.research.google.com/github/Vasishta218/python0081/blob/main/tuples.ipynb\" target=\"_parent\"><img src=\"https://colab.research.google.com/assets/colab-badge.svg\" alt=\"Open In Colab\"/></a>"
      ]
    },
    {
      "cell_type": "code",
      "execution_count": 1,
      "metadata": {
        "colab": {
          "base_uri": "https://localhost:8080/"
        },
        "id": "yAWThFNvk1tH",
        "outputId": "11f0a18e-dca7-4a62-8937-f7f2f1a246fc"
      },
      "outputs": [
        {
          "output_type": "stream",
          "name": "stdout",
          "text": [
            "('apple', 'banana', 'cherry')\n"
          ]
        }
      ],
      "source": [
        "thistuple = (\"apple\", \"banana\", \"cherry\")\n",
        "print(thistuple)\n"
      ]
    },
    {
      "cell_type": "code",
      "source": [
        "a=(\"madhav\",\"prashanth\",\"vasishta\")\n",
        "print(a)"
      ],
      "metadata": {
        "colab": {
          "base_uri": "https://localhost:8080/"
        },
        "id": "N-6UjNr0nvVx",
        "outputId": "493f013e-5311-46af-c1ce-9aa714ab37ba"
      },
      "execution_count": 2,
      "outputs": [
        {
          "output_type": "stream",
          "name": "stdout",
          "text": [
            "('madhav', 'prashanth', 'vasishta')\n"
          ]
        }
      ]
    },
    {
      "cell_type": "code",
      "source": [
        "a=(\"bahubali\",\"radhe shyam\",\"rrr\")\n",
        "print(a)"
      ],
      "metadata": {
        "colab": {
          "base_uri": "https://localhost:8080/"
        },
        "id": "BX9k_SnQpYXu",
        "outputId": "02d0ed78-78b1-427b-eaaa-145b7661ec94"
      },
      "execution_count": 8,
      "outputs": [
        {
          "output_type": "stream",
          "name": "stdout",
          "text": [
            "('bahubali', 'radhe shyam', 'rrr')\n"
          ]
        }
      ]
    },
    {
      "cell_type": "code",
      "source": [
        "b=(\"cat\",\"rat\",\"mat\")\n",
        "print(b)\n",
        "print(b[1])"
      ],
      "metadata": {
        "colab": {
          "base_uri": "https://localhost:8080/"
        },
        "id": "itpPPtOuoFve",
        "outputId": "bf2d2dd5-4fbf-49c6-94fd-70a276f99ee7"
      },
      "execution_count": 4,
      "outputs": [
        {
          "output_type": "stream",
          "name": "stdout",
          "text": [
            "('cat', 'rat', 'mat')\n",
            "rat\n"
          ]
        }
      ]
    },
    {
      "cell_type": "code",
      "source": [
        "c=(\"malaria\",\"dengue\",\"chicken pox\")\n",
        "print(c)\n",
        "print(c[0])\n",
        "print(c[1])\n",
        "print(c[2])"
      ],
      "metadata": {
        "colab": {
          "base_uri": "https://localhost:8080/"
        },
        "id": "QtPyL6Jeo4Wk",
        "outputId": "c9968753-3162-4e73-986f-d25cabdd1ba0"
      },
      "execution_count": 7,
      "outputs": [
        {
          "output_type": "stream",
          "name": "stdout",
          "text": [
            "('malaria', 'dengue', 'chicken pox')\n",
            "malaria\n",
            "dengue\n",
            "chicken pox\n"
          ]
        }
      ]
    },
    {
      "cell_type": "code",
      "source": [
        "a=(\"mouse\",\"key board\",\"monitor\",\"cpu\",\"aa\")\n",
        "print(a)\n",
        "print(a[2:4])"
      ],
      "metadata": {
        "colab": {
          "base_uri": "https://localhost:8080/"
        },
        "id": "vPJWAfNdpWZG",
        "outputId": "c9f89cfa-fe76-4195-c196-4cae801ad1bd"
      },
      "execution_count": 14,
      "outputs": [
        {
          "output_type": "stream",
          "name": "stdout",
          "text": [
            "('mouse', 'key board', 'monitor', 'cpu', 'aa')\n",
            "('monitor', 'cpu')\n"
          ]
        }
      ]
    },
    {
      "cell_type": "code",
      "source": [
        "x = (\"apple\", \"banana\", \"cherry\")\n",
        "y = list(x)\n",
        "y[1] = \"kiwi\"\n",
        "x = tuple(y)\n",
        "\n",
        "print(x)"
      ],
      "metadata": {
        "colab": {
          "base_uri": "https://localhost:8080/"
        },
        "id": "XW-TDlkisVy2",
        "outputId": "f2e62a4c-82ff-48f4-9644-2b0605562f0c"
      },
      "execution_count": 15,
      "outputs": [
        {
          "output_type": "stream",
          "name": "stdout",
          "text": [
            "('apple', 'kiwi', 'cherry')\n"
          ]
        }
      ]
    },
    {
      "cell_type": "code",
      "source": [
        "a=(\"vasishta\",\"prashu\",\"madhav\")\n",
        "b=list(a)\n",
        "b[2]=\"rohith\"\n",
        "a=tuple(b)\n",
        "\n",
        "print(a)"
      ],
      "metadata": {
        "colab": {
          "base_uri": "https://localhost:8080/"
        },
        "id": "dF_BNIiPsaL1",
        "outputId": "3e24cb8a-d648-4a7b-c6bd-1fceca32cbd1"
      },
      "execution_count": 16,
      "outputs": [
        {
          "output_type": "stream",
          "name": "stdout",
          "text": [
            "('vasishta', 'prashu', 'rohith')\n"
          ]
        }
      ]
    },
    {
      "cell_type": "code",
      "source": [
        "restarent=(\"fish\",\"chicken\",\"mutton\")\n",
        "(apollofish,chicken65,juicymutton)=restarent\n",
        "print(apollofish)\n",
        "print(chicken65)\n",
        "print(juicymutton)"
      ],
      "metadata": {
        "colab": {
          "base_uri": "https://localhost:8080/"
        },
        "id": "I6G0eKsQuUad",
        "outputId": "dd642dca-ba52-4e84-e8df-951c60b15955"
      },
      "execution_count": 19,
      "outputs": [
        {
          "output_type": "stream",
          "name": "stdout",
          "text": [
            "fish\n",
            "chicken\n",
            "mutton\n"
          ]
        }
      ]
    },
    {
      "cell_type": "code",
      "source": [
        "a={\"mouse\",\"key board\",\"monitor\",\"cpu\",\"aa\",\"abc\",\"abc\"}\n",
        "print(a)\n",
        "for i in a:\n",
        "  print(i)\n"
      ],
      "metadata": {
        "colab": {
          "base_uri": "https://localhost:8080/"
        },
        "id": "o4czgbl7xw0j",
        "outputId": "61e8da0b-48b3-4d15-d4f9-6daca0a99bda"
      },
      "execution_count": 27,
      "outputs": [
        {
          "output_type": "stream",
          "name": "stdout",
          "text": [
            "{'mouse', 'aa', 'cpu', 'abc', 'key board', 'monitor'}\n",
            "mouse\n",
            "aa\n",
            "cpu\n",
            "abc\n",
            "key board\n",
            "monitor\n"
          ]
        }
      ]
    }
  ]
}