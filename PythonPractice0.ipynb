{
  "nbformat": 4,
  "nbformat_minor": 0,
  "metadata": {
    "colab": {
      "name": "PythonPractice0.ipynb",
      "provenance": [],
      "authorship_tag": "ABX9TyM+uhs43jqZ2kderLkFmZ5n",
      "include_colab_link": true
    },
    "kernelspec": {
      "name": "python3",
      "display_name": "Python 3"
    },
    "language_info": {
      "name": "python"
    }
  },
  "cells": [
    {
      "cell_type": "markdown",
      "metadata": {
        "id": "view-in-github",
        "colab_type": "text"
      },
      "source": [
        "<a href=\"https://colab.research.google.com/github/Vasishta218/python0081/blob/main/PythonPractice0.ipynb\" target=\"_parent\"><img src=\"https://colab.research.google.com/assets/colab-badge.svg\" alt=\"Open In Colab\"/></a>"
      ]
    },
    {
      "cell_type": "code",
      "execution_count": 6,
      "metadata": {
        "id": "FuD3JTzsIWZe",
        "colab": {
          "base_uri": "https://localhost:8080/"
        },
        "outputId": "f6ded1fe-2024-41de-8654-dbb0f614a78c"
      },
      "outputs": [
        {
          "output_type": "stream",
          "name": "stdout",
          "text": [
            "eligible\n"
          ]
        }
      ],
      "source": [
        "#age for voting\n",
        "age=21\n",
        "if age>=18:\n",
        " print(\"eligible\")\n",
        "else:\n",
        " print(\"not eligible\")"
      ]
    },
    {
      "cell_type": "code",
      "source": [
        "#maximum of 3 numbers\n",
        "a=int(input(\"enter a\"))\n",
        "b=int(input(\"enter b\"))\n",
        "c=int(input(\"enter c\"))\n",
        "if a>b and a>c:\n",
        "  print(\"a is largest\")\n",
        "elif b>a and b>c:\n",
        "  print(\"b is largest\")\n",
        "else:\n",
        "  print(\"c is largest\") \n"
      ],
      "metadata": {
        "colab": {
          "base_uri": "https://localhost:8080/"
        },
        "id": "u7aobbpESVhe",
        "outputId": "257c4539-42b5-486d-d64e-8c39e3d11696"
      },
      "execution_count": 7,
      "outputs": [
        {
          "output_type": "stream",
          "name": "stdout",
          "text": [
            "enter a2\n",
            "enter b23\n",
            "enter c4\n",
            "b is largest\n"
          ]
        }
      ]
    },
    {
      "cell_type": "code",
      "source": [
        "#compare five subjects marks\n",
        "m=int(input(\"enter marks of m \"))\n",
        "m1=int(input(\"enter marks of m1 \"))\n",
        "m2=int(input(\"enter marks of m2 \"))\n",
        "m3=int(input(\"enter marks of m3 \"))\n",
        "m4=int(input(\"enter marks of m4 \"))\n",
        "if m>m1 and m>m2 and m>m3 and m>m4:\n",
        "  print(\"m having the greatest\")\n",
        "elif m1>m and m1>m2 and m1>m3 and m1>m4:\n",
        "  print(\"m1 is the greatest\")\n",
        "elif m2>m and m2>m1 and m2>m3 and m2>m4:\n",
        "  print(\"m2 is the greatest\")\n",
        "elif m3>m and m3>m1 and m3>m2 and m3>m4:\n",
        "  print(\"m3 is the greatest\")\n",
        "else:\n",
        "  print(\"m4 is the greatest\")\n",
        "  \n",
        "\n"
      ],
      "metadata": {
        "colab": {
          "base_uri": "https://localhost:8080/"
        },
        "id": "a1YJFWwrVTcs",
        "outputId": "96948859-caa5-4afe-f09f-767826bb155e"
      },
      "execution_count": 10,
      "outputs": [
        {
          "output_type": "stream",
          "name": "stdout",
          "text": [
            "enter marks of m 1\n",
            "enter marks of m1 2\n",
            "enter marks of m2 3\n",
            "enter marks of m3 4\n",
            "enter marks of m4 5\n",
            "m4 is the greatest\n"
          ]
        }
      ]
    },
    {
      "cell_type": "code",
      "source": [
        "# check weather the traingle is equilateral,isosceles,or scalene traingle\n",
        "s1=int(input(\"enter side 1 :\"))\n",
        "s2=int(input(\"enter side 2 :\"))\n",
        "s3=int(input(\"enter side 3 :\"))\n",
        "if s1==s2==s3:\n",
        "  print(\"equilateral\")\n",
        "elif s1!=s2 and s2!=s3 and s3!=s1:\n",
        "  print(\"scalene\")\n",
        "elif s1==s2 and s2!=s3 or s2==s3 and s3!=s1 or s3==s1 and s1!=s2:\n",
        "  print(\"isosceles\")  \n",
        "\n"
      ],
      "metadata": {
        "colab": {
          "base_uri": "https://localhost:8080/"
        },
        "id": "BUqtUo_uYnHN",
        "outputId": "b8a351e5-94a6-4094-cd69-b38bf38687a0"
      },
      "execution_count": 12,
      "outputs": [
        {
          "output_type": "stream",
          "name": "stdout",
          "text": [
            "enter side 1 :10\n",
            "enter side 2 :20\n",
            "enter side 3 :10\n",
            "isosceles\n"
          ]
        }
      ]
    },
    {
      "cell_type": "code",
      "source": [
        ""
      ],
      "metadata": {
        "id": "TW6FMco4c_bl"
      },
      "execution_count": null,
      "outputs": []
    },
    {
      "cell_type": "code",
      "source": [
        "a=10\n",
        "b=20\n",
        "c=a+b\n",
        "print(c)"
      ],
      "metadata": {
        "colab": {
          "base_uri": "https://localhost:8080/"
        },
        "id": "WrE92O9dJOsJ",
        "outputId": "d88320c8-18a8-44e6-d252-933d6e2a1523"
      },
      "execution_count": null,
      "outputs": [
        {
          "output_type": "stream",
          "name": "stdout",
          "text": [
            "30\n"
          ]
        }
      ]
    }
  ]
}