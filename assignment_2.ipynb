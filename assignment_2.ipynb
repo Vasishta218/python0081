{
  "nbformat": 4,
  "nbformat_minor": 0,
  "metadata": {
    "colab": {
      "name": "module 2.ipynb",
      "provenance": [],
      "authorship_tag": "ABX9TyPbm3/w3Z6vXMSedpiO0qZ3",
      "include_colab_link": true
    },
    "kernelspec": {
      "name": "python3",
      "display_name": "Python 3"
    },
    "language_info": {
      "name": "python"
    }
  },
  "cells": [
    {
      "cell_type": "markdown",
      "metadata": {
        "id": "view-in-github",
        "colab_type": "text"
      },
      "source": [
        "<a href=\"https://colab.research.google.com/github/Vasishta218/python0081/blob/main/assignment_2.ipynb\" target=\"_parent\"><img src=\"https://colab.research.google.com/assets/colab-badge.svg\" alt=\"Open In Colab\"/></a>"
      ]
    },
    {
      "cell_type": "code",
      "source": [
        "#Program to print a specified list after removing the 0th, 4th and 5th elements.\n",
        "#Sample List : ['Red', 'Green', 'White', 'Black', 'Pink', 'Yellow']\n",
        "#Expected Output : ['Green', 'White', 'Black']\n",
        "def colour():\n",
        " lists=['Red', 'Green', 'White', 'Black', 'Pink', 'Yellow']\n",
        " lists.pop(4)\n",
        " lists.pop(4)\n",
        " lists.pop(0)\n",
        " print(lists)\n",
        "colour()"
      ],
      "metadata": {
        "colab": {
          "base_uri": "https://localhost:8080/"
        },
        "id": "1Z0zxe3ivvcI",
        "outputId": "c409bfac-766c-45e8-f7dc-01f77b222b76"
      },
      "execution_count": null,
      "outputs": [
        {
          "output_type": "stream",
          "name": "stdout",
          "text": [
            "['Green', 'White', 'Black']\n"
          ]
        }
      ]
    },
    {
      "cell_type": "code",
      "source": [
        "#Program to get the difference between the two lists.\n",
        "def diff():\n",
        " li1 = [6, 12, 24, 36, 48, 60]\n",
        " li2 = [5, 10, 15 ]\n",
        " li3 =set(li1)\n",
        " li4= set(li2)\n",
        " lu5= li3.difference(li4)\n",
        " lu6= list(lu5)\n",
        " print(lu6)\n",
        "diff()\n"
      ],
      "metadata": {
        "colab": {
          "base_uri": "https://localhost:8080/"
        },
        "id": "VGfXNJJgwrdO",
        "outputId": "059b763f-62c1-4010-be9e-8327865aa304"
      },
      "execution_count": null,
      "outputs": [
        {
          "output_type": "stream",
          "name": "stdout",
          "text": [
            "[36, 6, 12, 48, 24, 60]\n"
          ]
        }
      ]
    },
    {
      "cell_type": "code",
      "source": [
        "#Program to find the second smallest number and second largest number in a list.\n",
        "def find_len():\n",
        " list1=[6,45,145,245,367,453,555 ]\n",
        " length = len(list1)\n",
        " list1.sort()\n",
        " print(\"Second Largest element is:\", list1[length-2])\n",
        " print(\"Second Smallest element is:\", list1[1])\n",
        "find_len()       "
      ],
      "metadata": {
        "colab": {
          "base_uri": "https://localhost:8080/"
        },
        "id": "uO-Y9uyqxURk",
        "outputId": "ea19a1be-e26d-4d0d-e4fb-e53858bc2bab"
      },
      "execution_count": null,
      "outputs": [
        {
          "output_type": "stream",
          "name": "stdout",
          "text": [
            "Second Largest element is: 453\n",
            "Second Smallest element is: 45\n"
          ]
        }
      ]
    },
    {
      "cell_type": "code",
      "source": [
        "#Given a list of numbers of list, write a Python program to create a list of tuples having first element as the number and second ele\n",
        "def sq_in_list():\n",
        " list1 = [1, 2, 3, 4]\n",
        " b= len(list1)\n",
        " for i in range(0,b):\n",
        "   c=list1[i]\n",
        " a=pow(c,2)\n",
        " res = (c, a)\n",
        " print(res)\n",
        "sq_in_list()"
      ],
      "metadata": {
        "colab": {
          "base_uri": "https://localhost:8080/"
        },
        "id": "OHqkhhXZ0PZO",
        "outputId": "8c8ab318-e9a9-4f01-8c2b-dad62a6ee0a9"
      },
      "execution_count": null,
      "outputs": [
        {
          "output_type": "stream",
          "name": "stdout",
          "text": [
            "(4, 16)\n"
          ]
        }
      ]
    },
    {
      "cell_type": "code",
      "source": [
        "#Given list of tuples, remove all the tuples with length K.\n",
        "#Input : test_list = [(4, 5), (4, ), (8, 6, 7), (1, ), (3, 4, 6, 7)], K = 2\n",
        "#Output : [(4, ), (8, 6, 7), (1, ), (3, 4, 6, 7)]\n",
        "#Explanation : (4, 5) of len = 2 is removed.\n",
        "def len_of_tuples():\n",
        " test_list = [(6, 9), (4, ), (8, 9, 12), (1, ), (5, 7, 8, 10)]\n",
        " print(\"The original list : \" + str(test_list))\n",
        " K = 3\n",
        " res = [ele for ele in test_list if len(ele) != K]\n",
        " print(\"Filtered list : \" + str(res))\n",
        "len_of_tuples()\n",
        "\n"
      ],
      "metadata": {
        "id": "uYgcMWrw18K_",
        "colab": {
          "base_uri": "https://localhost:8080/"
        },
        "outputId": "77c5e125-ba74-4c2e-c956-0374133374d6"
      },
      "execution_count": 17,
      "outputs": [
        {
          "output_type": "stream",
          "name": "stdout",
          "text": [
            "The original list : [(6, 9), (4,), (8, 9, 12), (1,), (5, 7, 8, 10)]\n",
            "Filtered list : [(6, 9), (4,), (1,), (5, 7, 8, 10)]\n"
          ]
        }
      ]
    },
    {
      "cell_type": "code",
      "source": [
        "###Program to generate and print a dictionary that contains a number (between 1 and n) in the form (x, x*x).\n",
        "def sq():\n",
        " n=int(input(\"Enter a number \"))\n",
        " d = dict()\n",
        " for x in range(1,n+1):\n",
        "  d[x]=x*x\n",
        " print(d)\n",
        "sq()"
      ],
      "metadata": {
        "colab": {
          "base_uri": "https://localhost:8080/"
        },
        "id": "SkTk3kvx4Lfs",
        "outputId": "f46a0014-c111-41a6-ab6e-f7d3e83a3dc9"
      },
      "execution_count": 20,
      "outputs": [
        {
          "output_type": "stream",
          "name": "stdout",
          "text": [
            "Enter a number 4\n",
            "{1: 1, 2: 4, 3: 9, 4: 16}\n"
          ]
        }
      ]
    },
    {
      "cell_type": "code",
      "source": [
        "#Program to remove a key from a dictionary\n",
        "def removing_keys():\n",
        "  diction = {'a':4,'b':5,'c':6,'d':7}\n",
        "  print(diction)\n",
        "if 'a' in diction:\n",
        " del diction['d']\n",
        " print(diction)\n",
        "def removing_keys():\n",
        " removing_keys()\n"
      ],
      "metadata": {
        "colab": {
          "base_uri": "https://localhost:8080/",
          "height": 235
        },
        "id": "43j-1yRJ5Rbd",
        "outputId": "f5249905-2aa0-4fdb-8f05-a079afd7e579"
      },
      "execution_count": 22,
      "outputs": [
        {
          "output_type": "error",
          "ename": "NameError",
          "evalue": "ignored",
          "traceback": [
            "\u001b[0;31m---------------------------------------------------------------------------\u001b[0m",
            "\u001b[0;31mNameError\u001b[0m                                 Traceback (most recent call last)",
            "\u001b[0;32m<ipython-input-22-23d849836fec>\u001b[0m in \u001b[0;36m<module>\u001b[0;34m()\u001b[0m\n\u001b[1;32m      3\u001b[0m   \u001b[0mdiction\u001b[0m \u001b[0;34m=\u001b[0m \u001b[0;34m{\u001b[0m\u001b[0;34m'a'\u001b[0m\u001b[0;34m:\u001b[0m\u001b[0;36m4\u001b[0m\u001b[0;34m,\u001b[0m\u001b[0;34m'b'\u001b[0m\u001b[0;34m:\u001b[0m\u001b[0;36m5\u001b[0m\u001b[0;34m,\u001b[0m\u001b[0;34m'c'\u001b[0m\u001b[0;34m:\u001b[0m\u001b[0;36m6\u001b[0m\u001b[0;34m,\u001b[0m\u001b[0;34m'd'\u001b[0m\u001b[0;34m:\u001b[0m\u001b[0;36m7\u001b[0m\u001b[0;34m}\u001b[0m\u001b[0;34m\u001b[0m\u001b[0;34m\u001b[0m\u001b[0m\n\u001b[1;32m      4\u001b[0m   \u001b[0mprint\u001b[0m\u001b[0;34m(\u001b[0m\u001b[0mdiction\u001b[0m\u001b[0;34m)\u001b[0m\u001b[0;34m\u001b[0m\u001b[0;34m\u001b[0m\u001b[0m\n\u001b[0;32m----> 5\u001b[0;31m \u001b[0;32mif\u001b[0m \u001b[0;34m'a'\u001b[0m \u001b[0;32min\u001b[0m \u001b[0mdiction\u001b[0m\u001b[0;34m:\u001b[0m\u001b[0;34m\u001b[0m\u001b[0;34m\u001b[0m\u001b[0m\n\u001b[0m\u001b[1;32m      6\u001b[0m  \u001b[0;32mdel\u001b[0m \u001b[0mdiction\u001b[0m\u001b[0;34m[\u001b[0m\u001b[0;34m'd'\u001b[0m\u001b[0;34m]\u001b[0m\u001b[0;34m\u001b[0m\u001b[0;34m\u001b[0m\u001b[0m\n\u001b[1;32m      7\u001b[0m  \u001b[0mprint\u001b[0m\u001b[0;34m(\u001b[0m\u001b[0mdiction\u001b[0m\u001b[0;34m)\u001b[0m\u001b[0;34m\u001b[0m\u001b[0;34m\u001b[0m\u001b[0m\n",
            "\u001b[0;31mNameError\u001b[0m: name 'diction' is not defined"
          ]
        }
      ]
    }
  ]
}