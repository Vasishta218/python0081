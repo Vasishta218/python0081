{
  "nbformat": 4,
  "nbformat_minor": 0,
  "metadata": {
    "colab": {
      "name": "assignment 3.ipynb",
      "provenance": [],
      "authorship_tag": "ABX9TyOOyCmN83vJbHwL9Fbye9Mi",
      "include_colab_link": true
    },
    "kernelspec": {
      "name": "python3",
      "display_name": "Python 3"
    },
    "language_info": {
      "name": "python"
    }
  },
  "cells": [
    {
      "cell_type": "markdown",
      "metadata": {
        "id": "view-in-github",
        "colab_type": "text"
      },
      "source": [
        "<a href=\"https://colab.research.google.com/github/Vasishta218/python0081/blob/main/assignment_3.ipynb\" target=\"_parent\"><img src=\"https://colab.research.google.com/assets/colab-badge.svg\" alt=\"Open In Colab\"/></a>"
      ]
    },
    {
      "cell_type": "code",
      "execution_count": null,
      "metadata": {
        "id": "BcaAEJkeMW_L"
      },
      "outputs": [],
      "source": [
        "def count_digs(tup):\n",
        "    return sum([len(str(ele)) for ele in tup ])\n",
        "list = [(3,4,6,723),(1,2),(134,234,34)]\n",
        "print(\"The original list is : \" + str(list))\n",
        "list.sort(key = count_digs)\n",
        "print(\"Sorted tuples : \" + str(list))"
      ]
    },
    {
      "cell_type": "code",
      "source": [
        "#Write a program to print a prime number in a given range using function (25,50).\n",
        "def prime(a,b):\n",
        "  for i in range(a,b+1):\n",
        "    k=0\n",
        "    for j in range(2,i):\n",
        "        if i%j==0:\n",
        "         k+=1\n",
        "  if k==0:\n",
        "        print(i)\n"
      ],
      "metadata": {
        "id": "KGnqr3vAMolA"
      },
      "execution_count": null,
      "outputs": []
    },
    {
      "cell_type": "code",
      "source": [
        "def print_month_name(x):\n",
        "  if (x==1,3,5,7,8,10,12):\n",
        "    print(\"\")\n",
        "month = int(input(\"Enter the month number: \"))\n",
        "print_month_name(month)\n"
      ],
      "metadata": {
        "colab": {
          "base_uri": "https://localhost:8080/"
        },
        "id": "xtB5qNfTNHvH",
        "outputId": "e375cb63-ce82-4737-fd18-3986222664d3"
      },
      "execution_count": null,
      "outputs": [
        {
          "output_type": "stream",
          "name": "stdout",
          "text": [
            "Enter the month number: 4\n",
            "\n"
          ]
        }
      ]
    },
    {
      "cell_type": "code",
      "source": [
        "a=int(input(\"Enter marks of the first subject:\"))\n",
        "b=int(input(\"Enter marks of the second subject: \"))\n",
        "c=int(input(\"Enter marks of the third subject: \"))\n",
        "d=int(input(\"Enter marks of the fourth subject: \"))\n",
        "e=int(input(\"Enter marks of the fifth subject: \"))\n",
        "avg=(a+b+c+d+e)/5\n",
        "if(avg>=90):\n",
        "print(\"Grade: A+\")\n",
        "elif(avg>=80 and avg<90):\n",
        "print(\"Grade: A\")\n",
        "elif(avg>=70 and avg<80):\n",
        "print(\"Grade: B\")\n",
        "elif(avg>=60 and avg<70):\n",
        "print(\"Grade: C\")\n",
        "else:\n",
        "print(\"Grade: F\")"
      ],
      "metadata": {
        "id": "3bN5yn5cNaMm"
      },
      "execution_count": null,
      "outputs": []
    },
    {
      "cell_type": "code",
      "source": [
        "#check given number is perfect number or not\n",
        "n = int(input(\"Enter any number: \"))\n",
        "sum1 = 0\n",
        "for i in range(1, n):\n",
        "if(n % i == 0):\n",
        "sum1 = sum1 + i\n",
        "if (sum1 == n):\n",
        "print(\"The number is a Perfect number!\")\n",
        "else:\n",
        "print(\"The number is not a Perfect number!\")"
      ],
      "metadata": {
        "id": "9ePsHE-sNePP"
      },
      "execution_count": null,
      "outputs": []
    },
    {
      "cell_type": "code",
      "source": [
        "\n",
        "#check given number is a strong number or not\n",
        "sum1=0\n",
        "num=int(input(\"Enter a number:\"))\n",
        "temp=num\n",
        "while(num):\n",
        "    i=1\n",
        "    f=1\n",
        "r=num%10\n",
        "while(i<=r):\n",
        "        f=f*i\n",
        "        i=i+1\n",
        "sum1=sum1+f\n",
        "num=num//10\n",
        "if(sum1==temp):\n",
        "    print(\"The number is a strong number\")\n",
        "else:\n",
        "    print(\"The number is not a strong number\")\n"
      ],
      "metadata": {
        "id": "1sagY0OXNkL_"
      },
      "execution_count": null,
      "outputs": []
    },
    {
      "cell_type": "code",
      "source": [
        "#find the gcd of two numbers with recursion\n",
        "a=int(input(\"enter first number:\"))\n",
        "b=int(input(\"enter second number:\"))\n",
        "def gcd(a,b):\n",
        "  if (b==0):\n",
        "    return a\n",
        "  else:\n",
        "    return gcd(b,a%b)\n",
        "print(\"GCD is\",gcd(a,b))\n"
      ],
      "metadata": {
        "id": "yETHp0OKNrlY"
      },
      "execution_count": null,
      "outputs": []
    },
    {
      "cell_type": "code",
      "source": [
        "#calculate the product of digits of a number given by user\n",
        "def product(a,b):\n",
        "  if a>b:\n",
        "    return product(b,a)\n",
        "  elif b!=0:\n",
        "    return (a+product(a,b-1))\n",
        "  else:\n",
        "    return 0\n",
        "a=(int(input(\"enter first number:\")))\n",
        "b=(int(input(\"enter second number:\")))\n",
        "print(\"Product is\",product(a,b))"
      ],
      "metadata": {
        "id": "fRFuJ5E8OE_c"
      },
      "execution_count": null,
      "outputs": []
    },
    {
      "cell_type": "code",
      "source": [
        "#calculate the sum of squares of digits of a number given by user\n",
        "n=int(input(\"enter a number:\"))\n",
        "def square(n):\n",
        "  sum=0\n",
        "  while(n>0):\n",
        "    rem=n%10\n",
        "    sqr=rem*rem\n",
        "    sum=sum+sqr\n",
        "    n=n//10\n",
        "  print(\"sum of squares of number is:\",sum)\n",
        "square(n)"
      ],
      "metadata": {
        "id": "ZHy5YNrpOI2Y"
      },
      "execution_count": null,
      "outputs": []
    },
    {
      "cell_type": "code",
      "source": [
        "#given an integer n,return a list containing 1223334444\n",
        "n=int(input(\"enter the range of number:\"))\n",
        "def repeat(n):\n",
        "  for i in range(1,n+1):\n",
        "    for a in range(i):\n",
        "      print(i,end=\"\")\n",
        "repeat(n)"
      ],
      "metadata": {
        "id": "UEWO2yowONhA"
      },
      "execution_count": null,
      "outputs": []
    },
    {
      "cell_type": "code",
      "source": [
        "#print no.of vowels and consonants in a given string\n",
        "n=input(\"enter a string:\")\n",
        "def vowelandconsonant(n):\n",
        "  vowel=0\n",
        "  consonant=0\n",
        "  for i in (n):\n",
        "if(i==\"A\"or i==\"E\"or i==\"I\"or i==\"O\"or i==\"U\"or i==\"a\"ori==\"e\"ori==\"i\"or i==\"o\"ori==\"u\"):\n",
        "      vowel=vowel+1\n",
        "    else:\n",
        "      consonant=consonant+1\n",
        "  print(\"The number of vowels are:\",vowel)\n",
        "  print(\"The number of consonants are:\",consonant)\n",
        "vowelandconsonant(n)\n"
      ],
      "metadata": {
        "id": "jqouLQ7kOSbl"
      },
      "execution_count": null,
      "outputs": []
    },
    {
      "cell_type": "code",
      "source": [
        "#given two integers A and B.If A<B print all numbers in ascending order else print in descending order\n",
        "n=int(input(\"enter size of list:\"))\n",
        "a=[]\n",
        "for i in range(n):\n",
        "  b=int(input(\"enter the number:\"))\n",
        "  a.append(b)\n",
        "if a[0]<a[-1]:\n",
        "  a.sort()\n",
        "else:\n",
        "  a.sort(reverse=True)\n",
        "print(a)"
      ],
      "metadata": {
        "id": "46qP6f1zOScs"
      },
      "execution_count": null,
      "outputs": []
    },
    {
      "cell_type": "code",
      "source": [
        "#program to print largest value among 3 numbers\n",
        "a=int(input(\"enter first number:\"))\n",
        "b=int(input(\"enter second number:\"))\n",
        "c=int(input(\"enter third number:\"))\n",
        "def largest(a,b,c):\n",
        "  if a>b and a>c:\n",
        "    print(\"largest among three numbers is:\",a)\n",
        "  elif b>a and b>c:\n",
        "    print(\"largest among three numbers is:\",b)\n",
        "  else:\n",
        "    print(\"largest among three numbers is:\",c)\n",
        "largest(a,b,c)"
      ],
      "metadata": {
        "id": "od6p3uPYOeJc"
      },
      "execution_count": null,
      "outputs": []
    },
    {
      "cell_type": "code",
      "source": [
        "#There is a walking track of 3km.Roundtrip of walking track means 3+3=6km.take input from the user as no.of days,no.of round trips co\n",
        "a=int(input(\"Enter no.of days:\"))\n",
        "b=int(input(\"Enter no.of round trips completed in a day(in km):\"))\n",
        "def Walking(a,b):\n",
        "  d=a*b*6000\n",
        "  if d>=40000:\n",
        "    print(\"good luck\")\n",
        "  else:\n",
        "    print('need to walk more')\n",
        "Walking(a,b)\n"
      ],
      "metadata": {
        "id": "l6H2Ve91Ohf2"
      },
      "execution_count": null,
      "outputs": []
    }
  ]
}