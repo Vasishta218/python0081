{
  "nbformat": 4,
  "nbformat_minor": 0,
  "metadata": {
    "colab": {
      "name": "assignment 1",
      "provenance": [],
      "authorship_tag": "ABX9TyMi+pZav7MQFkYtvIsXm3HQ",
      "include_colab_link": true
    },
    "kernelspec": {
      "name": "python3",
      "display_name": "Python 3"
    },
    "language_info": {
      "name": "python"
    }
  },
  "cells": [
    {
      "cell_type": "markdown",
      "metadata": {
        "id": "view-in-github",
        "colab_type": "text"
      },
      "source": [
        "<a href=\"https://colab.research.google.com/github/Vasishta218/python0081/blob/main/assignment_1.ipynb\" target=\"_parent\"><img src=\"https://colab.research.google.com/assets/colab-badge.svg\" alt=\"Open In Colab\"/></a>"
      ]
    },
    {
      "cell_type": "code",
      "execution_count": null,
      "metadata": {
        "id": "71beDxgXZK8u",
        "colab": {
          "base_uri": "https://localhost:8080/"
        },
        "outputId": "bcf3bda5-b3a6-43e8-f7e0-b578bc0c5761"
      },
      "outputs": [
        {
          "output_type": "stream",
          "name": "stdout",
          "text": [
            "5\n",
            "5\n"
          ]
        }
      ],
      "source": [
        "#Accept input from user and store it in variable and print the value\n",
        "num=int(input())\n",
        "a=num\n",
        "print(a)"
      ]
    },
    {
      "cell_type": "code",
      "source": [
        "# Use of print statements and use of (.format )for printing various data types\n",
        "maths=54\n",
        "social=68\n",
        "chemistry=57\n",
        "english=78\n",
        "physics=69\n",
        "txt=\"\"\"I am Vasista, I scored {0}marks in maths,\n",
        "{1}marks in social, {2}marks in chemistry,\n",
        "{3}marks in english, {4}marks in physics.\"\"\"\n",
        "print(txt.format(maths,social,chemistry,english,physics))\n",
        "\n",
        "txt=\"\"\"I am Vasista, I scored {}marks in maths,\n",
        "{}marks in social, {}marks in chemistry,\n",
        "{}marks in english, {}marks in\n",
        "physics.\"\"\".format(54,68,57,78,69)\n",
        "print(txt)"
      ],
      "metadata": {
        "colab": {
          "base_uri": "https://localhost:8080/"
        },
        "id": "KI15vlGuhdJc",
        "outputId": "a9242b8a-0c4a-401c-e418-d9f03c69db26"
      },
      "execution_count": null,
      "outputs": [
        {
          "output_type": "stream",
          "name": "stdout",
          "text": [
            "I am Vasista, I scored 54marks in maths,\n",
            "68marks in social, 57marks in chemistry,\n",
            "78marks in english, 69marks in physics.\n",
            "I am Vasista, I scored 54marks in maths,\n",
            "68marks in social, 57marks in chemistry,\n",
            "78marks in english, 69marks in\n",
            "physics.\n"
          ]
        }
      ]
    },
    {
      "cell_type": "code",
      "source": [
        "#Take 2 numbers as user input and add,multiply,divide,subtract,remainder and print the out\n",
        "x=int(input())\n",
        "y=int(input())\n",
        "z=x+y\n",
        "print(z)\n",
        "p=x-y\n",
        "print(z)\n",
        "q=x*y\n",
        "print(q)\n",
        "r=x/y\n",
        "print(r)\n",
        "s=x%y\n",
        "print(s)\n",
        "\n",
        "x=float(input())\n",
        "y=float(input())\n",
        "z=x+y\n",
        "print(z)\n",
        "p=x-y\n",
        "print(p)\n",
        "p=x*y\n",
        "print(p)\n",
        "q=x/y\n",
        "print(q)\n",
        "r=x%y\n",
        "print(r)\n",
        "\n"
      ],
      "metadata": {
        "colab": {
          "base_uri": "https://localhost:8080/"
        },
        "id": "8VSaFj1xh4EF",
        "outputId": "5e96ff1b-41ea-4b18-e216-09f4d861efa3"
      },
      "execution_count": null,
      "outputs": [
        {
          "output_type": "stream",
          "name": "stdout",
          "text": [
            "5\n",
            "7\n",
            "12\n",
            "12\n",
            "35\n",
            "0.7142857142857143\n",
            "5\n",
            "6\n",
            "8\n",
            "14.0\n",
            "-2.0\n",
            "48.0\n",
            "0.75\n",
            "6.0\n"
          ]
        }
      ]
    },
    {
      "cell_type": "code",
      "source": [
        "#Conversion of one unit to another (such as hours to minutes, miles to km and etc)\n",
        "num=float(input())\n",
        "hours=num\n",
        "minutes=hours*60\n",
        "print(minutes,\"minutes\")\n",
        "num=float(input())\n",
        "Km=num\n",
        "miles=num\n",
        "km=miles*1.60934\n",
        "print(km,\"kilometers\")\n",
        "num=float(input())\n",
        "Kg=num\n",
        "G=Kg*1000\n",
        "print(G,\"grams\")\n",
        "num=float(input())\n",
        "L=num\n",
        "ml=L*1000\n",
        "print(ml,\"milli liters\")"
      ],
      "metadata": {
        "colab": {
          "base_uri": "https://localhost:8080/"
        },
        "id": "_ipr16sdh4LM",
        "outputId": "a35038d9-aa1e-4bb2-a732-aec8f79d3c2d"
      },
      "execution_count": null,
      "outputs": [
        {
          "output_type": "stream",
          "name": "stdout",
          "text": [
            "12\n",
            "720.0 minutes\n",
            "2\n",
            "3.21868 kilometers\n",
            "3\n",
            "3000.0 grams\n",
            "4\n",
            "4000.0 milli liters\n"
          ]
        }
      ]
    },
    {
      "cell_type": "code",
      "source": [
        "#Usage of mathematical functions in python likemath.ceil,floor,fabs,fmod,trunc,pow, sqrt e\n",
        "import math\n",
        "x=math.ceil(7.8)\n",
        "y=math.floor(8.7)\n",
        "z=math.fabs(3.7)\n",
        "p=math.fmod(6,7)\n",
        "q=math.trunc(8.5)\n",
        "r=pow(4,6)\n",
        "s=math.sqrt(49)\n",
        "print(x)\n",
        "print(y)\n",
        "print(z)\n",
        "print(p)\n",
        "print(q)\n",
        "print(r)\n",
        "print(s)"
      ],
      "metadata": {
        "colab": {
          "base_uri": "https://localhost:8080/"
        },
        "id": "JWfsrlsIi0pT",
        "outputId": "3f46cc96-7164-4388-91fe-e4138b4e3a0b"
      },
      "execution_count": null,
      "outputs": [
        {
          "output_type": "stream",
          "name": "stdout",
          "text": [
            "8\n",
            "8\n",
            "3.7\n",
            "6.0\n",
            "8\n",
            "4096\n",
            "7.0\n"
          ]
        }
      ]
    },
    {
      "cell_type": "code",
      "source": [
        "\n",
        "#Building a mathematical calculator that can perform operations according to user input.Us\n",
        "z=[\"+\",\"-\",\"*\",\"/\"]\n",
        "p=str(input())\n",
        "if \"+\" in p:\n",
        "  print(x+y)\n",
        "elif \"-\" in p:\n",
        "  print(x-y)\n",
        "elif \"*\" in p:\n",
        "  print(x*y)\n",
        "elif \"/\" in p:\n",
        "  print(x/y)"
      ],
      "metadata": {
        "colab": {
          "base_uri": "https://localhost:8080/"
        },
        "id": "pGmiY-ZDjM22",
        "outputId": "abf16e1a-5461-4ede-e5c2-e5f4537057d3"
      },
      "execution_count": null,
      "outputs": [
        {
          "name": "stdout",
          "output_type": "stream",
          "text": [
            "65\n"
          ]
        }
      ]
    },
    {
      "cell_type": "code",
      "source": [
        "\n",
        "#Accepting 5 different subject marks from user and displaying the grade of the student\n",
        "x=int(input(\"enter maths marks : \"))\n",
        "y=int(input(\"enter phy marks : \"))\n",
        "z=int(input(\"enter chem marks : \"))\n",
        "p=int(input(\"enter english marks : \"))\n",
        "q=int(input(\"enter C marks : \"))\n",
        "total=x+y+z+p+q\n",
        "print(total)\n",
        "avg=total/5\n",
        "print(avg)\n",
        "if avg>=91 and avg<=100:\n",
        "  print(\"A grade\")\n",
        "elif avg>=81 and avg<91:\n",
        "  print(\"B grade\")\n",
        "elif avg>=71 and avg<81:\n",
        "  print(\"C grade\")\n",
        "elif avg>=61 and avg<71:\n",
        "  print(\"D grade\")\n",
        "elif avg>=51 and avg<61:\n",
        "  print(\"E grade\")\n",
        "elif avg>=41 and avg<51:\n",
        "  print(\" F grade\")\n",
        "elif avg>=33 and avg<41:\n",
        "  print(\"G\")"
      ],
      "metadata": {
        "colab": {
          "base_uri": "https://localhost:8080/"
        },
        "id": "sitX-EKQkJBi",
        "outputId": "9088f279-e63c-4507-cc47-656e5941db29"
      },
      "execution_count": null,
      "outputs": [
        {
          "output_type": "stream",
          "name": "stdout",
          "text": [
            "enter maths marks : 5\n",
            "enter phy marks : 5\n",
            "enter chem marks : 7\n",
            "enter english marks : 45\n",
            "enter C marks : 7\n",
            "69\n",
            "13.8\n"
          ]
        }
      ]
    },
    {
      "cell_type": "code",
      "source": [
        "\n",
        "#Printing all even numbers, odd numbers, count of even numbers, count of odd numbers withi\n",
        "n1=int(input())\n",
        "for x in range(n1,n2+1):\n",
        " if x%2==0:\n",
        "  print(x)\n",
        "count=0\n",
        "for x in range(n1,n2):\n",
        "  if x%2:\n",
        "      count+=1\n",
        "print(\"Number of even numbers are \",count)\n",
        "print(\"-----\")\n",
        "n3=int(input())\n",
        "n4=int(input())\n",
        "print(\"Odd numbers in given Range\")\n",
        "print((\"____\"))\n",
        "for x in range(n3,n4+1):\n",
        "  if x%2==1:\n",
        "    print(x)\n",
        "count=0\n",
        "for x in range(n1,n2):\n",
        " if not x%2:\n",
        "    count+=1\n",
        "print(\"number of odd numbers are\",count)"
      ],
      "metadata": {
        "colab": {
          "base_uri": "https://localhost:8080/",
          "height": 249
        },
        "id": "4nQIZDZEkV4T",
        "outputId": "2854d0f1-4871-4818-a919-d4e6729fa9b4"
      },
      "execution_count": null,
      "outputs": [
        {
          "name": "stdout",
          "output_type": "stream",
          "text": [
            "56\n"
          ]
        },
        {
          "output_type": "error",
          "ename": "NameError",
          "evalue": "ignored",
          "traceback": [
            "\u001b[0;31m---------------------------------------------------------------------------\u001b[0m",
            "\u001b[0;31mNameError\u001b[0m                                 Traceback (most recent call last)",
            "\u001b[0;32m<ipython-input-33-b15a10acb951>\u001b[0m in \u001b[0;36m<module>\u001b[0;34m()\u001b[0m\n\u001b[1;32m      2\u001b[0m \u001b[0;31m#Printing all even numbers, odd numbers, count of even numbers, count of odd numbers withi\u001b[0m\u001b[0;34m\u001b[0m\u001b[0;34m\u001b[0m\u001b[0;34m\u001b[0m\u001b[0m\n\u001b[1;32m      3\u001b[0m \u001b[0mn1\u001b[0m\u001b[0;34m=\u001b[0m\u001b[0mint\u001b[0m\u001b[0;34m(\u001b[0m\u001b[0minput\u001b[0m\u001b[0;34m(\u001b[0m\u001b[0;34m)\u001b[0m\u001b[0;34m)\u001b[0m\u001b[0;34m\u001b[0m\u001b[0;34m\u001b[0m\u001b[0m\n\u001b[0;32m----> 4\u001b[0;31m \u001b[0;32mfor\u001b[0m \u001b[0mx\u001b[0m \u001b[0;32min\u001b[0m \u001b[0mrange\u001b[0m\u001b[0;34m(\u001b[0m\u001b[0mn1\u001b[0m\u001b[0;34m,\u001b[0m\u001b[0mn2\u001b[0m\u001b[0;34m+\u001b[0m\u001b[0;36m1\u001b[0m\u001b[0;34m)\u001b[0m\u001b[0;34m:\u001b[0m\u001b[0;34m\u001b[0m\u001b[0;34m\u001b[0m\u001b[0m\n\u001b[0m\u001b[1;32m      5\u001b[0m  \u001b[0;32mif\u001b[0m \u001b[0mx\u001b[0m\u001b[0;34m%\u001b[0m\u001b[0;36m2\u001b[0m\u001b[0;34m==\u001b[0m\u001b[0;36m0\u001b[0m\u001b[0;34m:\u001b[0m\u001b[0;34m\u001b[0m\u001b[0;34m\u001b[0m\u001b[0m\n\u001b[1;32m      6\u001b[0m   \u001b[0mprint\u001b[0m\u001b[0;34m(\u001b[0m\u001b[0mx\u001b[0m\u001b[0;34m)\u001b[0m\u001b[0;34m\u001b[0m\u001b[0;34m\u001b[0m\u001b[0m\n",
            "\u001b[0;31mNameError\u001b[0m: name 'n2' is not defined"
          ]
        }
      ]
    },
    {
      "cell_type": "code",
      "source": [
        "\n",
        "#a) Compute the factorial of a given number.\n",
        "num=int(input())\n",
        "P=1\n",
        "for x in range(1,num+1):\n",
        "# Compute GCD of two given numbers.\n",
        "num1=int(input())\n",
        "num2=int(input())\n",
        "def hcf(num1,num2):\n",
        " if num1>num2:\n",
        "    smaller = num2\n",
        " else:\n",
        "    smaller=num1\n",
        " for x in range(1, smaller+1):\n",
        "    if((num1 % x == 0) and (num2 % x == 0)):\n",
        "     hcf = x\n",
        " return hcf\n",
        "print(\"Gcd is\", hcf(n1,n2))"
      ],
      "metadata": {
        "colab": {
          "base_uri": "https://localhost:8080/",
          "height": 166
        },
        "id": "h8wrClcrkixX",
        "outputId": "cc76a652-179a-4a85-e054-d7bf60efea85"
      },
      "execution_count": null,
      "outputs": [
        {
          "output_type": "error",
          "ename": "IndentationError",
          "evalue": "ignored",
          "traceback": [
            "\u001b[0;36m  File \u001b[0;32m\"<ipython-input-17-595b240eb1ca>\"\u001b[0;36m, line \u001b[0;32m7\u001b[0m\n\u001b[0;31m    num1=int(input())\u001b[0m\n\u001b[0m       ^\u001b[0m\n\u001b[0;31mIndentationError\u001b[0m\u001b[0;31m:\u001b[0m expected an indented block\n"
          ]
        }
      ]
    },
    {
      "cell_type": "code",
      "source": [
        "\n",
        "# c) Generate Fibonacci series up to N numbers.\n",
        "    num=int(input())\n",
        "    x=0\n",
        "    y=1\n",
        "    count=0\n",
        "    print(\"fibonnaci seriers are\")\n",
        "    while count<num:\n",
        "     print(a)\n",
        "     nth=x+y\n",
        "     x=y\n",
        "     y=nth\n",
        "     count += 1"
      ],
      "metadata": {
        "colab": {
          "base_uri": "https://localhost:8080/",
          "height": 166
        },
        "id": "kvoowxo3kkfq",
        "outputId": "62bfab75-8a2d-44a1-bcbe-78f265b7552c"
      },
      "execution_count": null,
      "outputs": [
        {
          "output_type": "error",
          "ename": "IndentationError",
          "evalue": "ignored",
          "traceback": [
            "\u001b[0;36m  File \u001b[0;32m\"<ipython-input-18-8d41bccd7134>\"\u001b[0;36m, line \u001b[0;32m3\u001b[0m\n\u001b[0;31m    num=int(input())\u001b[0m\n\u001b[0m    ^\u001b[0m\n\u001b[0;31mIndentationError\u001b[0m\u001b[0;31m:\u001b[0m unexpected indent\n"
          ]
        }
      ]
    },
    {
      "cell_type": "code",
      "source": [
        "\n",
        "#Check whether the given input is a palindrome\n",
        "n=int(input())\n",
        "n1=n\n",
        "sum=0\n",
        "while(n1!=0):\n",
        " r=n1%10\n",
        "sum=sum*10+r\n",
        "else:\n",
        " print(\"Not palindrome\")"
      ],
      "metadata": {
        "colab": {
          "base_uri": "https://localhost:8080/",
          "height": 166
        },
        "id": "DdnqfHfVksHs",
        "outputId": "0d56b056-87ef-45ca-d727-97d52b150554"
      },
      "execution_count": null,
      "outputs": [
        {
          "output_type": "error",
          "ename": "IndentationError",
          "evalue": "ignored",
          "traceback": [
            "\u001b[0;36m  File \u001b[0;32m\"<ipython-input-19-c554395c558e>\"\u001b[0;36m, line \u001b[0;32m4\u001b[0m\n\u001b[0;31m    n=int(input())\u001b[0m\n\u001b[0m    ^\u001b[0m\n\u001b[0;31mIndentationError\u001b[0m\u001b[0;31m:\u001b[0m unexpected indent\n"
          ]
        }
      ]
    },
    {
      "cell_type": "code",
      "source": [
        "#Strong number\n",
        "n=int(input())\n",
        "sum=0\n",
        "n=n1\n",
        "while(n1):\n",
        " i=1\n",
        " f=1\n",
        " r=n1%10\n",
        " while(i<=r):\n",
        "  f=f*i\n",
        "i=i+1\n",
        "sum=sum+f\n",
        "n1=n1//10\n",
        "if(sum==n):\n",
        " print(\"Strong number\")\n",
        "else:\n",
        " print(\"Not a Strong Number\")"
      ],
      "metadata": {
        "id": "jRM4fTR3kwFJ",
        "colab": {
          "base_uri": "https://localhost:8080/"
        },
        "outputId": "453027ff-6180-4a59-81a7-10ceacf033b9"
      },
      "execution_count": null,
      "outputs": [
        {
          "name": "stdout",
          "output_type": "stream",
          "text": [
            "56\n"
          ]
        }
      ]
    },
    {
      "cell_type": "code",
      "source": [
        "\n",
        "#c) perfect number\n",
        "a=int(input())\n",
        "sum=0\n",
        "for p in range(1, a):\n",
        " if(a%p==0):\n",
        "  sum=sum+p\n",
        "if (sum==a):\n",
        " print(\"Perfect number\")\n",
        "else:\n",
        " print(\"Not a Perfect number\")"
      ],
      "metadata": {
        "colab": {
          "base_uri": "https://localhost:8080/"
        },
        "id": "a6KJu5-Zk3XL",
        "outputId": "90e683a0-394f-4a15-d762-824a59b76f3c"
      },
      "execution_count": null,
      "outputs": [
        {
          "output_type": "stream",
          "name": "stdout",
          "text": [
            "67\n",
            "Not a Perfect number\n"
          ]
        }
      ]
    },
    {
      "cell_type": "code",
      "source": [
        "#Compute compound interest using loop for a certain principal\n",
        "p=int(input())\n",
        "r=float(input())\n",
        "t=int(input())\n",
        "for i in range(t):\n",
        "  A= p*(pow((1+r/100),t))\n",
        "print(A)"
      ],
      "metadata": {
        "id": "VebOH8WXk9W0",
        "outputId": "d5fb402e-692e-48d0-f053-e995d9d1cfe7",
        "colab": {
          "base_uri": "https://localhost:8080/"
        }
      },
      "execution_count": null,
      "outputs": [
        {
          "output_type": "stream",
          "name": "stdout",
          "text": [
            "76\n",
            "9\n",
            "7\n",
            "138.9309731820685\n"
          ]
        }
      ]
    }
  ]
}